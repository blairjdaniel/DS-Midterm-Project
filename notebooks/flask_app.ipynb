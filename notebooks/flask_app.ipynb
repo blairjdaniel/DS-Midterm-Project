{
 "cells": [
  {
   "cell_type": "code",
   "execution_count": 12,
   "metadata": {},
   "outputs": [],
   "source": [
    "import pickle\n",
    "import numpy as np\n",
    "import pandas as pd\n",
    "import requests\n",
    "import joblib"
   ]
  },
  {
   "cell_type": "code",
   "execution_count": 13,
   "metadata": {},
   "outputs": [],
   "source": [
    "model = joblib.load('/Users/blairjdaniel/lighthouse/lighthouse/week_nine/DS-Midterm-Project/notebooks/best_model.pkl')"
   ]
  },
  {
   "cell_type": "code",
   "execution_count": 23,
   "metadata": {},
   "outputs": [],
   "source": [
    "# feature columns\n",
    "columns = ['description.year_built', 'description.baths', 'description.garage', 'description.stories', 'description.beds',   'num_days', 'central_air', \n",
    "'dishwasher', 'fireplace', 'basement', 'price_per_sqft', 'median_value_per_sqft', 'description.type_encoded', 'city_encoded']\n",
    "\n",
    "# new data point\n",
    "X_new = np.array([\n",
    "    2019,\n",
    "    2,\n",
    "    3,\n",
    "    1,\n",
    "    2,\n",
    "    56,\n",
    "    1,\n",
    "    1,\n",
    "    0,\n",
    "    0,\n",
    "    200,\n",
    "    0.8,\n",
    "    43,\n",
    "    2\n",
    "])\n",
    "\n",
    "# columns and new data packaged as a dataframe (note we need to explictly convert the array to be 1xN -- 1 row with N columns)\n",
    "df_new = pd.DataFrame(data=X_new.reshape(1,-1),columns=columns)\n",
    "# Round the values to zero decimal places\n",
    "df_new = df_new.round(0)"
   ]
  },
  {
   "cell_type": "code",
   "execution_count": 28,
   "metadata": {},
   "outputs": [
    {
     "name": "stdout",
     "output_type": "stream",
     "text": [
      "Predicted selling price: 368924.45\n"
     ]
    }
   ],
   "source": [
    "y_new = model.predict(df_new)\n",
    "y_new = y_new.round(2)\n",
    "print(f\"Predicted selling price: {y_new[0]}\")"
   ]
  },
  {
   "cell_type": "code",
   "execution_count": 30,
   "metadata": {},
   "outputs": [],
   "source": [
    "X_new = {\n",
    "    'description.year_built': 2019,\n",
    "    'description.baths': 2,\n",
    "    'description.garage': 3,\n",
    "    'description.stories': 1, \n",
    "    'description.beds':   2,\n",
    "    'num_days': 56,\n",
    "    'central_air': 1,\n",
    "    'dishwasher': 1,\n",
    "    'fireplace': 0,\n",
    "    'basement': 0,\n",
    "    'price_per_sqft': 200,\n",
    "    'median_value_per_sqft': 0.8,\n",
    "    'description.type_encoded': 43,\n",
    "    'city_encoded': 2\n",
    "}"
   ]
  },
  {
   "cell_type": "code",
   "execution_count": 32,
   "metadata": {},
   "outputs": [
    {
     "name": "stdout",
     "output_type": "stream",
     "text": [
      "Error making request... is the Flask app running?\n"
     ]
    }
   ],
   "source": [
    "# make post request to get prediction back\n",
    "try:\n",
    "    response = requests.post('http://127.0.0.1:5555',json=X_new)\n",
    "    print(response.json())\n",
    "except:\n",
    "    print('Error making request... is the Flask app running?')"
   ]
  }
 ],
 "metadata": {
  "kernelspec": {
   "display_name": "myenv",
   "language": "python",
   "name": "python3"
  },
  "language_info": {
   "codemirror_mode": {
    "name": "ipython",
    "version": 3
   },
   "file_extension": ".py",
   "mimetype": "text/x-python",
   "name": "python",
   "nbconvert_exporter": "python",
   "pygments_lexer": "ipython3",
   "version": "3.11.11"
  }
 },
 "nbformat": 4,
 "nbformat_minor": 2
}
