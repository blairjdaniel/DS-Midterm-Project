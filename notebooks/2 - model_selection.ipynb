{
 "cells": [
  {
   "cell_type": "markdown",
   "metadata": {},
   "source": [
    "## Model Selection\n",
    "\n",
    "This notebook should include preliminary and baseline modeling.\n",
    "- Try as many different models as possible.\n",
    "- Don't worry about hyperparameter tuning or cross validation here.\n",
    "- Ideas include:\n",
    "    - linear regression\n",
    "    - support vector machines\n",
    "    - random forest\n",
    "    - xgboost"
   ]
  },
  {
   "cell_type": "code",
   "execution_count": 1,
   "metadata": {},
   "outputs": [],
   "source": [
    "# import models and fit\n",
    "import pandas as pd\n",
    "import numpy as np\n",
    "from sklearn.dummy import DummyRegressor\n",
    "from sklearn.ensemble import RandomForestRegressor, GradientBoostingRegressor\n",
    "from sklearn.model_selection import GridSearchCV\n",
    "from sklearn.linear_model import LinearRegression, Ridge, Lasso, ElasticNet\n",
    "from sklearn.svm import SVR\n",
    "from sklearn.neighbors import KNeighborsRegressor\n",
    "from xgboost import XGBRegressor\n",
    "from sklearn.tree import DecisionTreeRegressor\n",
    "from sklearn.metrics import mean_absolute_error, r2_score, mean_squared_error\n"
   ]
  },
  {
   "cell_type": "code",
   "execution_count": 18,
   "metadata": {},
   "outputs": [
    {
     "name": "stdout",
     "output_type": "stream",
     "text": [
      "Training set shape: (902, 14) (902,)\n",
      "Test set shape: (226, 14) (226,)\n"
     ]
    }
   ],
   "source": [
    "# import models and fit\n",
    "# Load the training dataset\n",
    "dataframe_train_poly = pd.read_csv('/Users/blairjdaniel/lighthouse/lighthouse/DS-Midterm-Project/processed/train.csv')\n",
    "X_train = dataframe_train_poly.drop(columns=['description.sold_price']).values\n",
    "y_train = dataframe_train_poly['description.sold_price'].values\n",
    "print(\"Training set shape:\", X_train.shape, y_train.shape)\n",
    "\n",
    "# Load the test dataset\n",
    "dataframe_test_poly = pd.read_csv('/Users/blairjdaniel/lighthouse/lighthouse/DS-Midterm-Project/processed/test.csv')\n",
    "X_test = dataframe_test_poly.drop(columns=['description.sold_price']).values\n",
    "y_test = dataframe_test_poly['description.sold_price'].values\n",
    "print(\"Test set shape:\", X_test.shape, y_test.shape)"
   ]
  },
  {
   "cell_type": "code",
   "execution_count": 9,
   "metadata": {},
   "outputs": [
    {
     "name": "stdout",
     "output_type": "stream",
     "text": [
      "Training set shape: (902, 13) (902,)\n",
      "Test set shape: (226, 13) (226,)\n"
     ]
    }
   ],
   "source": [
    "# import models and fit\n",
    "# Load the training dataset\n",
    "dataframe_train_poly = pd.read_csv('/Users/blairjdaniel/lighthouse/lighthouse/DS-Midterm-Project/processed/train_pca.csv')\n",
    "X_train_2 = dataframe_train_poly.drop(columns=['description.sold_price']).values\n",
    "y_train_2 = dataframe_train_poly['description.sold_price'].values\n",
    "print(\"Training set shape:\", X_train_2.shape, y_train_2.shape)\n",
    "\n",
    "# Load the test dataset\n",
    "dataframe_test_poly = pd.read_csv('/Users/blairjdaniel/lighthouse/lighthouse/DS-Midterm-Project/processed/test_pca.csv')\n",
    "X_test_2 = dataframe_test_poly.drop(columns=['description.sold_price']).values\n",
    "y_test_2 = dataframe_test_poly['description.sold_price'].values\n",
    "print(\"Test set shape:\", X_test_2.shape, y_test_2.shape)"
   ]
  },
  {
   "cell_type": "code",
   "execution_count": 10,
   "metadata": {},
   "outputs": [
    {
     "name": "stdout",
     "output_type": "stream",
     "text": [
      "Training set shape: (902, 119) (902,)\n",
      "Test set shape: (226, 119) (226,)\n"
     ]
    }
   ],
   "source": [
    "# import models and fit\n",
    "# Load the training dataset\n",
    "dataframe_train_poly = pd.read_csv('/Users/blairjdaniel/lighthouse/lighthouse/DS-Midterm-Project/processed/train_poly.csv')\n",
    "X_train_3 = dataframe_train_poly.drop(columns=['description.sold_price']).values\n",
    "y_train_3 = dataframe_train_poly['description.sold_price'].values\n",
    "print(\"Training set shape:\", X_train_3.shape, y_train_3.shape)\n",
    "\n",
    "# Load the test dataset\n",
    "dataframe_test_poly = pd.read_csv('/Users/blairjdaniel/lighthouse/lighthouse/DS-Midterm-Project/processed/test_poly.csv')\n",
    "X_test_3 = dataframe_test_poly.drop(columns=['description.sold_price']).values\n",
    "y_test_3 = dataframe_test_poly['description.sold_price'].values\n",
    "print(\"Test set shape:\", X_test_3.shape, y_test_3.shape)"
   ]
  },
  {
   "cell_type": "code",
   "execution_count": 19,
   "metadata": {},
   "outputs": [
    {
     "name": "stdout",
     "output_type": "stream",
     "text": [
      "Best Parameters: {'learning_rate': 0.1, 'max_depth': 3, 'min_samples_leaf': 2, 'min_samples_split': 5, 'n_estimators': 300, 'subsample': 0.8}\n",
      "Mean Squared Error (MSE): 6399959654.029679\n",
      "Root Mean Squared Error (RMSE): 79999.74783728809\n",
      "Mean Absolute Error (MAE): 55246.17209822343\n",
      "R²: 0.816082243489204\n",
      "Adjusted R²: 0.8038791695974924\n"
     ]
    }
   ],
   "source": [
    "# Define the model\n",
    "model = GradientBoostingRegressor()\n",
    "\n",
    "# Define the parameter grid\n",
    "param_grid = {\n",
    "    'n_estimators': [300],\n",
    "    'max_depth': [3],\n",
    "    'learning_rate': [0.1, 0.2],\n",
    "    'subsample': [0.8, 1.0],\n",
    "    'min_samples_split': [2, 5],\n",
    "    'min_samples_leaf': [1, 2]\n",
    "}\n",
    "\n",
    "# Set up the grid search\n",
    "grid_search = GridSearchCV(estimator=model, param_grid=param_grid, cv=5, n_jobs=-1, scoring='r2')\n",
    "\n",
    "# Execute the search\n",
    "grid_search.fit(X_train, y_train)\n",
    "\n",
    "# Get the best model\n",
    "best_model = grid_search.best_estimator_\n",
    "\n",
    "# Make predictions\n",
    "predictions = best_model.predict(X_test)\n",
    "print(f\"Best Parameters: {grid_search.best_params_}\")\n",
    "\n",
    "# Calculate metrics\n",
    "mse = mean_squared_error(y_test, predictions)\n",
    "rmse = np.sqrt(mse)\n",
    "mae = mean_absolute_error(y_test, predictions)\n",
    "r2 = r2_score(y_test, predictions)\n",
    "adjusted_r2 = 1 - (1 - r2) * (len(y_test) - 1) / (len(y_test) - X_test.shape[1] - 1)\n",
    "\n",
    "# Print metrics\n",
    "print(f\"Mean Squared Error (MSE): {mse}\")\n",
    "print(f\"Root Mean Squared Error (RMSE): {rmse}\")\n",
    "print(f\"Mean Absolute Error (MAE): {mae}\")\n",
    "print(f\"R²: {r2}\")\n",
    "print(f\"Adjusted R²: {adjusted_r2}\")"
   ]
  },
  {
   "cell_type": "code",
   "execution_count": 13,
   "metadata": {},
   "outputs": [
    {
     "name": "stdout",
     "output_type": "stream",
     "text": [
      "Best Parameters: {'learning_rate': 0.1, 'max_depth': 3, 'min_samples_leaf': 2, 'min_samples_split': 2, 'n_estimators': 300, 'subsample': 0.8}\n",
      "Mean Squared Error (MSE): 8430636956.906597\n",
      "Root Mean Squared Error (RMSE): 91818.50007981287\n",
      "Mean Absolute Error (MAE): 65154.627682586564\n",
      "R²: 0.7577259984607905\n",
      "Adjusted R²: 0.742869573838103\n"
     ]
    }
   ],
   "source": [
    "# Define the model\n",
    "model = GradientBoostingRegressor()\n",
    "\n",
    "# Define the parameter grid\n",
    "param_grid = {\n",
    "    'n_estimators': [300],\n",
    "    'max_depth': [3],\n",
    "    'learning_rate': [0.1, 0.2],\n",
    "    'subsample': [0.8, 1.0],\n",
    "    'min_samples_split': [2, 5],\n",
    "    'min_samples_leaf': [1, 2]\n",
    "}\n",
    "\n",
    "# Set up the grid search\n",
    "grid_search = GridSearchCV(estimator=model, param_grid=param_grid, cv=5, n_jobs=-1, scoring='r2')\n",
    "\n",
    "# Execute the search\n",
    "grid_search.fit(X_train_2, y_train_2)\n",
    "\n",
    "# Get the best model\n",
    "best_model = grid_search.best_estimator_\n",
    "\n",
    "# Make predictions\n",
    "predictions = best_model.predict(X_test_2)\n",
    "print(f\"Best Parameters: {grid_search.best_params_}\")\n",
    "\n",
    "# Calculate metrics\n",
    "mse = mean_squared_error(y_test_2, predictions)\n",
    "rmse = np.sqrt(mse)\n",
    "mae = mean_absolute_error(y_test_2, predictions)\n",
    "r2 = r2_score(y_test_2, predictions)\n",
    "adjusted_r2 = 1 - (1 - r2) * (len(y_test_2) - 1) / (len(y_test_2) - X_test_2.shape[1] - 1)\n",
    "\n",
    "# Print metrics\n",
    "print(f\"Mean Squared Error (MSE): {mse}\")\n",
    "print(f\"Root Mean Squared Error (RMSE): {rmse}\")\n",
    "print(f\"Mean Absolute Error (MAE): {mae}\")\n",
    "print(f\"R²: {r2}\")\n",
    "print(f\"Adjusted R²: {adjusted_r2}\")"
   ]
  },
  {
   "cell_type": "code",
   "execution_count": 14,
   "metadata": {},
   "outputs": [
    {
     "name": "stdout",
     "output_type": "stream",
     "text": [
      "Best Parameters: {'learning_rate': 0.1, 'max_depth': 3, 'min_samples_leaf': 1, 'min_samples_split': 5, 'n_estimators': 300, 'subsample': 0.8}\n",
      "Mean Squared Error (MSE): 6229726431.574986\n",
      "Root Mean Squared Error (RMSE): 78928.61605004224\n",
      "Mean Absolute Error (MAE): 55822.453485942446\n",
      "R²: 0.8209742918848149\n",
      "Adjusted R²: 0.6199926006988995\n"
     ]
    }
   ],
   "source": [
    "# Define the model\n",
    "model = GradientBoostingRegressor()\n",
    "\n",
    "# Define the parameter grid\n",
    "param_grid = {\n",
    "    'n_estimators': [300],\n",
    "    'max_depth': [3],\n",
    "    'learning_rate': [0.1, 0.2],\n",
    "    'subsample': [0.8, 1.0],\n",
    "    'min_samples_split': [2, 5],\n",
    "    'min_samples_leaf': [1, 2]\n",
    "}\n",
    "\n",
    "# Set up the grid search\n",
    "grid_search = GridSearchCV(estimator=model, param_grid=param_grid, cv=5, n_jobs=-1, scoring='r2')\n",
    "\n",
    "# Execute the search\n",
    "grid_search.fit(X_train_3, y_train_3)\n",
    "\n",
    "# Get the best model\n",
    "best_model = grid_search.best_estimator_\n",
    "\n",
    "# Make predictions\n",
    "predictions = best_model.predict(X_test_3)\n",
    "print(f\"Best Parameters: {grid_search.best_params_}\")\n",
    "\n",
    "# Calculate metrics\n",
    "mse = mean_squared_error(y_test_3, predictions)\n",
    "rmse = np.sqrt(mse)\n",
    "mae = mean_absolute_error(y_test_3, predictions)\n",
    "r2 = r2_score(y_test_3, predictions)\n",
    "adjusted_r2 = 1 - (1 - r2) * (len(y_test_3) - 1) / (len(y_test_3) - X_test_3.shape[1] - 1)\n",
    "\n",
    "# Print metrics\n",
    "print(f\"Mean Squared Error (MSE): {mse}\")\n",
    "print(f\"Root Mean Squared Error (RMSE): {rmse}\")\n",
    "print(f\"Mean Absolute Error (MAE): {mae}\")\n",
    "print(f\"R²: {r2}\")\n",
    "print(f\"Adjusted R²: {adjusted_r2}\")"
   ]
  },
  {
   "cell_type": "code",
   "execution_count": 20,
   "metadata": {},
   "outputs": [
    {
     "name": "stdout",
     "output_type": "stream",
     "text": [
      "Mean Squared Error (MSE): 6466147328.0\n",
      "Root Mean Squared Error (RMSE): 80412.35805521437\n",
      "Mean Absolute Error (MAE): 57161.2734375\n",
      "R²: 0.8141801953315735\n",
      "Adjusted R²: 0.8018509191924361\n"
     ]
    }
   ],
   "source": [
    "# Define the model\n",
    "model = XGBRegressor()\n",
    "\n",
    "# Define the parameter grid\n",
    "param_grid = {\n",
    "    'n_estimators': [300],\n",
    "    'max_depth': [3],\n",
    "    'learning_rate': [0.1],\n",
    "    'subsample': [0.8],\n",
    "    'colsample_bytree': [1.0],\n",
    "    'gamma': [0],\n",
    "    'reg_alpha': [0.1],\n",
    "    'reg_lambda': [1]\n",
    "}\n",
    "\n",
    "# Set up the grid search\n",
    "grid_search = GridSearchCV(estimator=model, param_grid=param_grid, cv=5, n_jobs=-1, scoring='r2')\n",
    "\n",
    "# Execute the search\n",
    "grid_search.fit(X_train, y_train)\n",
    "\n",
    "# Get the best model\n",
    "best_model = grid_search.best_estimator_\n",
    "\n",
    "# Make predictions\n",
    "predictions = best_model.predict(X_test)\n",
    "\n",
    "# Calculate metrics\n",
    "mse = mean_squared_error(y_test, predictions)\n",
    "rmse = np.sqrt(mse)\n",
    "mae = mean_absolute_error(y_test, predictions)\n",
    "r2 = r2_score(y_test, predictions)\n",
    "adjusted_r2 = 1 - (1 - r2) * (len(y_test) - 1) / (len(y_test) - X_test.shape[1] - 1)\n",
    "\n",
    "# Print metrics\n",
    "print(f\"Mean Squared Error (MSE): {mse}\")\n",
    "print(f\"Root Mean Squared Error (RMSE): {rmse}\")\n",
    "print(f\"Mean Absolute Error (MAE): {mae}\")\n",
    "print(f\"R²: {r2}\")\n",
    "print(f\"Adjusted R²: {adjusted_r2}\")"
   ]
  },
  {
   "cell_type": "code",
   "execution_count": 16,
   "metadata": {},
   "outputs": [
    {
     "name": "stdout",
     "output_type": "stream",
     "text": [
      "Mean Squared Error (MSE): 8367230976.0\n",
      "Root Mean Squared Error (RMSE): 91472.56952770049\n",
      "Mean Absolute Error (MAE): 66028.4609375\n",
      "R²: 0.7595481276512146\n",
      "Adjusted R²: 0.7448034373656759\n"
     ]
    }
   ],
   "source": [
    "# Define the model\n",
    "model = XGBRegressor()\n",
    "\n",
    "# Define the parameter grid\n",
    "param_grid = {\n",
    "    'n_estimators': [300],\n",
    "    'max_depth': [3],\n",
    "    'learning_rate': [0.1],\n",
    "    'subsample': [0.8],\n",
    "    'colsample_bytree': [1.0],\n",
    "    'gamma': [0],\n",
    "    'reg_alpha': [0.1],\n",
    "    'reg_lambda': [1]\n",
    "}\n",
    "\n",
    "# Set up the grid search\n",
    "grid_search = GridSearchCV(estimator=model, param_grid=param_grid, cv=5, n_jobs=-1, scoring='r2')\n",
    "\n",
    "# Execute the search\n",
    "grid_search.fit(X_train_2, y_train_2)\n",
    "\n",
    "# Get the best model\n",
    "best_model = grid_search.best_estimator_\n",
    "\n",
    "# Make predictions\n",
    "predictions = best_model.predict(X_test_2)\n",
    "\n",
    "# Calculate metrics\n",
    "mse = mean_squared_error(y_test_2, predictions)\n",
    "rmse = np.sqrt(mse)\n",
    "mae = mean_absolute_error(y_test_2, predictions)\n",
    "r2 = r2_score(y_test_2, predictions)\n",
    "adjusted_r2 = 1 - (1 - r2) * (len(y_test_2) - 1) / (len(y_test_2) - X_test_2.shape[1] - 1)\n",
    "\n",
    "# Print metrics\n",
    "print(f\"Mean Squared Error (MSE): {mse}\")\n",
    "print(f\"Root Mean Squared Error (RMSE): {rmse}\")\n",
    "print(f\"Mean Absolute Error (MAE): {mae}\")\n",
    "print(f\"R²: {r2}\")\n",
    "print(f\"Adjusted R²: {adjusted_r2}\")"
   ]
  },
  {
   "cell_type": "code",
   "execution_count": 17,
   "metadata": {},
   "outputs": [
    {
     "name": "stdout",
     "output_type": "stream",
     "text": [
      "Mean Squared Error (MSE): 6251127808.0\n",
      "Root Mean Squared Error (RMSE): 79064.07406654429\n",
      "Mean Absolute Error (MAE): 56277.46875\n",
      "R²: 0.8203592896461487\n",
      "Adjusted R²: 0.6186871714187119\n"
     ]
    }
   ],
   "source": [
    "# Define the model\n",
    "model = XGBRegressor()\n",
    "\n",
    "# Define the parameter grid\n",
    "param_grid = {\n",
    "    'n_estimators': [300],\n",
    "    'max_depth': [3],\n",
    "    'learning_rate': [0.1],\n",
    "    'subsample': [0.8],\n",
    "    'colsample_bytree': [1.0],\n",
    "    'gamma': [0],\n",
    "    'reg_alpha': [0.1],\n",
    "    'reg_lambda': [1]\n",
    "}\n",
    "\n",
    "# Set up the grid search\n",
    "grid_search = GridSearchCV(estimator=model, param_grid=param_grid, cv=5, n_jobs=-1, scoring='r2')\n",
    "\n",
    "# Execute the search\n",
    "grid_search.fit(X_train_3, y_train_3)\n",
    "\n",
    "# Get the best model\n",
    "best_model = grid_search.best_estimator_\n",
    "\n",
    "# Make predictions\n",
    "predictions = best_model.predict(X_test_3)\n",
    "\n",
    "# Calculate metrics\n",
    "mse = mean_squared_error(y_test_3, predictions)\n",
    "rmse = np.sqrt(mse)\n",
    "mae = mean_absolute_error(y_test_3, predictions)\n",
    "r2 = r2_score(y_test_3, predictions)\n",
    "adjusted_r2 = 1 - (1 - r2) * (len(y_test_3) - 1) / (len(y_test_3) - X_test_3.shape[1] - 1)\n",
    "\n",
    "# Print metrics\n",
    "print(f\"Mean Squared Error (MSE): {mse}\")\n",
    "print(f\"Root Mean Squared Error (RMSE): {rmse}\")\n",
    "print(f\"Mean Absolute Error (MAE): {mae}\")\n",
    "print(f\"R²: {r2}\")\n",
    "print(f\"Adjusted R²: {adjusted_r2}\")"
   ]
  },
  {
   "cell_type": "markdown",
   "metadata": {},
   "source": [
    "Consider what metrics you want to use to evaluate success.\n",
    "- If you think about mean squared error, can we actually relate to the amount of error?\n",
    "- Try root mean squared error so that error is closer to the original units (dollars)\n",
    "- What does RMSE do to outliers?\n",
    "- Is mean absolute error a good metric for this problem?\n",
    "- What about R^2? Adjusted R^2?\n",
    "- Briefly describe your reasons for picking the metrics you use"
   ]
  },
  {
   "cell_type": "code",
   "execution_count": null,
   "metadata": {},
   "outputs": [],
   "source": [
    "# gather evaluation metrics and compare results\n"
   ]
  },
  {
   "cell_type": "markdown",
   "metadata": {},
   "source": [
    "## Feature Selection - STRETCH\n",
    "\n",
    "> **This step doesn't need to be part of your Minimum Viable Product (MVP), but its recommended you complete it if you have time!**\n",
    "\n",
    "Even with all the preprocessing we did in Notebook 1, you probably still have a lot of features. Are they all important for prediction?\n",
    "\n",
    "Investigate some feature selection algorithms (Lasso, RFE, Forward/Backward Selection)\n",
    "- Perform feature selection to get a reduced subset of your original features\n",
    "- Refit your models with this reduced dimensionality - how does performance change on your chosen metrics?\n",
    "- Based on this, should you include feature selection in your final pipeline? Explain\n",
    "\n",
    "Remember, feature selection often doesn't directly improve performance, but if performance remains the same, a simpler model is often preferrable. \n",
    "\n"
   ]
  },
  {
   "cell_type": "code",
   "execution_count": null,
   "metadata": {},
   "outputs": [],
   "source": [
    "# perform feature selection \n",
    "# refit models\n",
    "# gather evaluation metrics and compare to the previous step (full feature set)"
   ]
  },
  {
   "cell_type": "markdown",
   "metadata": {},
   "source": []
  }
 ],
 "metadata": {
  "kernelspec": {
   "display_name": "myenv",
   "language": "python",
   "name": "python3"
  },
  "language_info": {
   "codemirror_mode": {
    "name": "ipython",
    "version": 3
   },
   "file_extension": ".py",
   "mimetype": "text/x-python",
   "name": "python",
   "nbconvert_exporter": "python",
   "pygments_lexer": "ipython3",
   "version": "3.11.11"
  }
 },
 "nbformat": 4,
 "nbformat_minor": 2
}
